{
 "cells": [
  {
   "cell_type": "code",
   "execution_count": 1,
   "metadata": {},
   "outputs": [],
   "source": [
    "import json\n",
    "import onnx\n",
    "import torch\n",
    "from torch import nn"
   ]
  },
  {
   "cell_type": "code",
   "execution_count": 2,
   "metadata": {},
   "outputs": [],
   "source": [
    "class ExampleModel(nn.Module):\n",
    "\n",
    "    def __init__(self):\n",
    "        super(ExampleModel, self).__init__()\n",
    "        self.fc1 = nn.Linear(9, 64)\n",
    "        self.fc2 = nn.Linear(64, 9)\n",
    "        self.relu = nn.ReLU()\n",
    "\n",
    "    def forward(self, x1, x2, x3):\n",
    "        # Input x1 is a scalar\n",
    "        # Input x2 is a vector with causality 'local' and 4 elements\n",
    "        # Input x3 is a vector with causality 'countinuous' and 5 elements\n",
    "        x4 = self.fc1(torch.cat((x2, x3), dim=0))\n",
    "        x4 = self.fc2(x4)\n",
    "        # Add dimension to x1\n",
    "        x1 = x1.unsqueeze(0)\n",
    "        # Concatenate x1, x4 and return\n",
    "        x = torch.cat((x1, x4), dim=0)\n",
    "        x = self.relu(x)\n",
    "        return x"
   ]
  },
  {
   "cell_type": "code",
   "execution_count": 3,
   "metadata": {},
   "outputs": [
    {
     "name": "stdout",
     "output_type": "stream",
     "text": [
      "torch.Size([])\n",
      "torch.Size([4])\n",
      "torch.Size([5])\n",
      "tensor([1.0000, 0.0000, 0.0000, 0.0000, 0.0000, 0.0000, 0.0000, 0.6177, 0.0000,\n",
      "        0.1084], grad_fn=<ReluBackward0>)\n"
     ]
    }
   ],
   "source": [
    "# Create three tensors\n",
    "x1 = torch.tensor(1.0)\n",
    "x2 = torch.randn(4)\n",
    "x3 = torch.randn(5)\n",
    "\n",
    "# Print tensors shape\n",
    "print(x1.shape)\n",
    "print(x2.shape)\n",
    "print(x3.shape)\n",
    "\n",
    "# Create the model\n",
    "model = ExampleModel()\n",
    "\n",
    "# Run the model\n",
    "output = model(x1, x2, x3)\n",
    "print(output)\n"
   ]
  },
  {
   "cell_type": "code",
   "execution_count": 4,
   "metadata": {},
   "outputs": [
    {
     "name": "stdout",
     "output_type": "stream",
     "text": [
      "Exported graph: graph(%scalar_input : Float(requires_grad=0, device=cpu),\n",
      "      %vector_input_local : Float(4, strides=[1], requires_grad=0, device=cpu),\n",
      "      %vector_input_continuous : Float(5, strides=[1], requires_grad=0, device=cpu),\n",
      "      %fc1.bias : Float(64, strides=[1], requires_grad=1, device=cpu),\n",
      "      %fc2.bias : Float(9, strides=[1], requires_grad=1, device=cpu),\n",
      "      %onnx::MatMul_18 : Float(9, 64, strides=[1, 9], requires_grad=0, device=cpu),\n",
      "      %onnx::MatMul_19 : Float(64, 9, strides=[1, 64], requires_grad=0, device=cpu)):\n",
      "  %/Concat_output_0 : Float(9, strides=[1], requires_grad=0, device=cpu) = onnx::Concat[axis=0, onnx_name=\"/Concat\"](%vector_input_local, %vector_input_continuous), scope: __main__.ExampleModel:: # /tmp/ipykernel_47028/529190988.py:13:0\n",
      "  %/fc1/MatMul_output_0 : Float(64, strides=[1], device=cpu) = onnx::MatMul[onnx_name=\"/fc1/MatMul\"](%/Concat_output_0, %onnx::MatMul_18), scope: __main__.ExampleModel::/torch.nn.modules.linear.Linear::fc1 # /home/miki/miniconda3/envs/myrechemical/lib/python3.10/site-packages/torch/nn/modules/linear.py:125:0\n",
      "  %/fc1/Add_output_0 : Float(64, strides=[1], requires_grad=1, device=cpu) = onnx::Add[onnx_name=\"/fc1/Add\"](%fc1.bias, %/fc1/MatMul_output_0), scope: __main__.ExampleModel::/torch.nn.modules.linear.Linear::fc1 # /home/miki/miniconda3/envs/myrechemical/lib/python3.10/site-packages/torch/nn/modules/linear.py:125:0\n",
      "  %/fc2/MatMul_output_0 : Float(9, strides=[1], device=cpu) = onnx::MatMul[onnx_name=\"/fc2/MatMul\"](%/fc1/Add_output_0, %onnx::MatMul_19), scope: __main__.ExampleModel::/torch.nn.modules.linear.Linear::fc2 # /home/miki/miniconda3/envs/myrechemical/lib/python3.10/site-packages/torch/nn/modules/linear.py:125:0\n",
      "  %/fc2/Add_output_0 : Float(9, strides=[1], requires_grad=1, device=cpu) = onnx::Add[onnx_name=\"/fc2/Add\"](%fc2.bias, %/fc2/MatMul_output_0), scope: __main__.ExampleModel::/torch.nn.modules.linear.Linear::fc2 # /home/miki/miniconda3/envs/myrechemical/lib/python3.10/site-packages/torch/nn/modules/linear.py:125:0\n",
      "  %/Constant_output_0 : Long(1, strides=[1], device=cpu) = onnx::Constant[value={0}, onnx_name=\"/Constant\"](), scope: __main__.ExampleModel:: # /tmp/ipykernel_47028/529190988.py:16:0\n",
      "  %/Unsqueeze_output_0 : Float(1, strides=[1], requires_grad=0, device=cpu) = onnx::Unsqueeze[onnx_name=\"/Unsqueeze\"](%scalar_input, %/Constant_output_0), scope: __main__.ExampleModel:: # /tmp/ipykernel_47028/529190988.py:16:0\n",
      "  %/Concat_1_output_0 : Float(10, strides=[1], requires_grad=1, device=cpu) = onnx::Concat[axis=0, onnx_name=\"/Concat_1\"](%/Unsqueeze_output_0, %/fc2/Add_output_0), scope: __main__.ExampleModel:: # /tmp/ipykernel_47028/529190988.py:18:0\n",
      "  %output : Float(10, strides=[1], requires_grad=1, device=cpu) = onnx::Relu[onnx_name=\"/relu/Relu\"](%/Concat_1_output_0), scope: __main__.ExampleModel::/torch.nn.modules.activation.ReLU::relu # /home/miki/miniconda3/envs/myrechemical/lib/python3.10/site-packages/torch/nn/functional.py:1704:0\n",
      "  return (%output)\n",
      "\n"
     ]
    }
   ],
   "source": [
    "# Set the model to evaluation mode\n",
    "model.eval()\n",
    "\n",
    "# Save the model in ONNX format\n",
    "torch.onnx.export(\n",
    "    model,\n",
    "    (x1, x2, x3),\n",
    "    \"example1.onnx\",\n",
    "    verbose=True,\n",
    "    input_names=[\"scalar_input\", \"vector_input_local\", \"vector_input_continuous\"],\n",
    "    output_names=[\"output\"],\n",
    ")\n",
    "\n",
    "# Load the model\n",
    "model_name = \"example1\"\n",
    "onnx_model = onnx.load(f\"{model_name}.onnx\")\n",
    "\n",
    "# Check the model\n",
    "onnx.checker.check_model(onnx_model)\n",
    "\n",
    "# Add description to the model\n",
    "onnx_model.graph.doc_string = \"Example model with scalar and vector inputs\"\n",
    "\n",
    "# Add descrption to the input\n",
    "onnx_model.graph.input[0].doc_string = \"Scalar input\"\n",
    "onnx_model.graph.input[1].doc_string = \"Vector input with causality local\"\n",
    "onnx_model.graph.input[2].doc_string = \"Vector input with causality continuous\"\n",
    "onnx_model.graph.output[0].doc_string = \"Output\"\n",
    "\n",
    "# Add metadata to the model\n",
    "onnx_model.producer_name = \"ExampleModel\"\n",
    "onnx_model.producer_version = \"0.0.1\"\n",
    "onnx_model.domain = \"example\"\n",
    "onnx_model.model_version = 1\n",
    "\n",
    "# Save the model\n",
    "onnx.save(onnx_model, f\"{model_name}.onnx\")\n"
   ]
  },
  {
   "cell_type": "markdown",
   "metadata": {},
   "source": [
    "Create and save the model description to be provided to ONNX2FMU."
   ]
  },
  {
   "cell_type": "code",
   "execution_count": 7,
   "metadata": {},
   "outputs": [],
   "source": [
    "model_description = {\n",
    "    \"name\": \"Example1\",\n",
    "    \"description\": \"The model defines a simple example model with a scalar input and two vector inputs, one with 'local' variability and one with 'continuous' variability.\",\n",
    "    \"FMIVersion\": \"2.0\",\n",
    "    \"input\": [\n",
    "        {\n",
    "            \"name\": \"scalar_input\",\n",
    "            \"description\": \"A scalar input to the model.\"\n",
    "        },\n",
    "        {\n",
    "            \"name\": \"vector_input_local\",\n",
    "            \"description\": \"A vector of 'local' variability inputs.\",\n",
    "            \"causality\": \"local\"\n",
    "        },\n",
    "        {\n",
    "            \"name\": \"vector_input_continuous\",\n",
    "            \"description\": \"A vector of 'continuous' variability inputs.\"\n",
    "        }\n",
    "    ],\n",
    "    \"output\": [\n",
    "        {\n",
    "            \"name\": \"output\",\n",
    "            \"description\": \"The output array.\",\n",
    "            \"names\": [\"Class1\", \"Class2\", \"Class3\", \"Class4\", \"Class5\", \"Class6\", \"Class7\", \"Class8\", \"Class9\", \"Class10\"]\n",
    "        }\n",
    "    ]\n",
    "}\n",
    "\n",
    "# Save model description\n",
    "with open(f\"{model_name}Description.json\", \"w\", encoding=\"utf-8\") as f:\n",
    "    json.dump(model_description, f, indent=4)"
   ]
  }
 ],
 "metadata": {
  "kernelspec": {
   "display_name": "myrechemical",
   "language": "python",
   "name": "python3"
  },
  "language_info": {
   "codemirror_mode": {
    "name": "ipython",
    "version": 3
   },
   "file_extension": ".py",
   "mimetype": "text/x-python",
   "name": "python",
   "nbconvert_exporter": "python",
   "pygments_lexer": "ipython3",
   "version": "3.10.16"
  }
 },
 "nbformat": 4,
 "nbformat_minor": 2
}
